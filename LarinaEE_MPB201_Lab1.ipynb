{
  "cells": [
    {
      "cell_type": "markdown",
      "metadata": {
        "id": "jLJseCER3KLM"
      },
      "source": [
        "# Домашняя работа. Numpy\n",
        "\n",
        "1. Скачайте этот ноутбук к себе.\n",
        "2. Заполните пропущенные ячейки, отвечая на заданные вопросы. Там должен быть код! (если не сказано обратное)\n",
        "3. Сохраните результат в своём гитхаб репозитории.\n",
        "\n",
        "#### Полезная литература\n",
        "\n",
        "- http://www.numpy.org/\n",
        "- https://jakevdp.github.io/PythonDataScienceHandbook/02.00-introduction-to-numpy.html\n",
        "- https://docs.scipy.org/doc/numpy/user/quickstart.html"
      ]
    },
    {
      "cell_type": "markdown",
      "source": [],
      "metadata": {
        "id": "GhYLxZqJ3UKU"
      }
    },
    {
      "cell_type": "code",
      "source": [],
      "metadata": {
        "id": "TPRUHvBZ3nGo"
      },
      "execution_count": null,
      "outputs": []
    },
    {
      "cell_type": "markdown",
      "metadata": {
        "id": "yEatAy0P3KLN"
      },
      "source": [
        "1) Импортировать numpy и написать версию"
      ]
    },
    {
      "cell_type": "code",
      "execution_count": null,
      "metadata": {
        "colab": {
          "base_uri": "https://localhost:8080/"
        },
        "id": "k4HTW6jK3KLO",
        "outputId": "5cdf16c6-1dcc-4758-a3fe-cad480e82b19"
      },
      "outputs": [
        {
          "output_type": "stream",
          "name": "stdout",
          "text": [
            "Версия numpy: 1.26.4\n"
          ]
        }
      ],
      "source": [
        "import numpy as np\n",
        "print(\"Версия numpy:\", np.__version__)\n"
      ]
    },
    {
      "cell_type": "markdown",
      "metadata": {
        "id": "EEQ1Ybjl3KLO"
      },
      "source": [
        "2) Создать нулевой вектор размера 10"
      ]
    },
    {
      "cell_type": "code",
      "execution_count": null,
      "metadata": {
        "colab": {
          "base_uri": "https://localhost:8080/"
        },
        "id": "IrP8L5_13KLO",
        "outputId": "d2930e60-342f-4a8c-f088-8f50340c9d60"
      },
      "outputs": [
        {
          "output_type": "stream",
          "name": "stdout",
          "text": [
            "Нулевой вектор размера 10: [0. 0. 0. 0. 0. 0. 0. 0. 0. 0.]\n"
          ]
        }
      ],
      "source": [
        "zero = np.zeros(10)\n",
        "print(\"Нулевой вектор размера 10:\", zero)"
      ]
    },
    {
      "cell_type": "markdown",
      "metadata": {
        "id": "KQkRWLaW3KLO"
      },
      "source": [
        "3) Создать вектор заполненный 7-ами размера 7"
      ]
    },
    {
      "cell_type": "code",
      "execution_count": null,
      "metadata": {
        "colab": {
          "base_uri": "https://localhost:8080/"
        },
        "id": "8NWAkEfo3KLP",
        "outputId": "64f2540f-7244-460b-9552-0cdb98316e47"
      },
      "outputs": [
        {
          "output_type": "stream",
          "name": "stdout",
          "text": [
            "Вектор, заполненный семерками размера 7: [7 7 7 7 7 7 7]\n"
          ]
        }
      ],
      "source": [
        "seven = np.full(7, 7)\n",
        "print(\"Вектор, заполненный семерками размера 7:\", seven)"
      ]
    },
    {
      "cell_type": "markdown",
      "metadata": {
        "id": "1lkAeQtT3KLP"
      },
      "source": [
        "4) Создать вектор заполненный четными числами от 10 до 100"
      ]
    },
    {
      "cell_type": "code",
      "execution_count": null,
      "metadata": {
        "colab": {
          "base_uri": "https://localhost:8080/"
        },
        "id": "aiuq7pra3KLP",
        "outputId": "92ea83d9-0d73-41a3-9ad1-fc3856b1af19"
      },
      "outputs": [
        {
          "output_type": "stream",
          "name": "stdout",
          "text": [
            "Вектор, заполненный четными числами от 10 до 100: [ 10  12  14  16  18  20  22  24  26  28  30  32  34  36  38  40  42  44\n",
            "  46  48  50  52  54  56  58  60  62  64  66  68  70  72  74  76  78  80\n",
            "  82  84  86  88  90  92  94  96  98 100]\n"
          ]
        }
      ],
      "source": [
        "vector = np.arange(10, 101, 2)\n",
        "print(\"Вектор, заполненный четными числами от 10 до 100:\", vector)"
      ]
    },
    {
      "cell_type": "markdown",
      "metadata": {
        "id": "2INASOjc3KLP"
      },
      "source": [
        "5) Создать массив случайных чисел и развернуть его задом наперёд"
      ]
    },
    {
      "cell_type": "code",
      "execution_count": null,
      "metadata": {
        "colab": {
          "base_uri": "https://localhost:8080/"
        },
        "id": "yLyfSm023KLP",
        "outputId": "e31d0792-718d-49d9-e25f-34c70c77639a"
      },
      "outputs": [
        {
          "output_type": "stream",
          "name": "stdout",
          "text": [
            "Случайный массив (числа от 1 до 10): [ 2  6  5  5  1  3  2 10  6  4]\n",
            "Развернутый массив: [ 4  6 10  2  3  1  5  5  6  2]\n"
          ]
        }
      ],
      "source": [
        "random_array = np.random.randint(1, 11, size=10)\n",
        "reversed_array = random_array[::-1]\n",
        "print(\"Случайный массив (числа от 1 до 10):\", random_array)\n",
        "print(\"Развернутый массив:\", reversed_array)\n"
      ]
    },
    {
      "cell_type": "markdown",
      "metadata": {
        "id": "khbdldJm3KLP"
      },
      "source": [
        "6) Создать двумерную матрицу размера 3 на 3, заполненную числами от 0 до 9"
      ]
    },
    {
      "cell_type": "code",
      "execution_count": null,
      "metadata": {
        "colab": {
          "base_uri": "https://localhost:8080/"
        },
        "id": "Rimbi92x3KLQ",
        "outputId": "ce5224cc-5355-4a4a-da7a-a29250cdac6c"
      },
      "outputs": [
        {
          "output_type": "stream",
          "name": "stdout",
          "text": [
            "Матрица 3x3, заполненная числами от 0 до 9:\n",
            "[[0 1 2]\n",
            " [3 4 5]\n",
            " [6 7 8]]\n"
          ]
        }
      ],
      "source": [
        "matrix = np.arange(9).reshape(3, 3)\n",
        "print(\"Матрица 3x3, заполненная числами от 0 до 9:\")\n",
        "print(matrix)"
      ]
    },
    {
      "cell_type": "markdown",
      "metadata": {
        "id": "ZAh_6dzn3KLQ"
      },
      "source": [
        "7) Создать матрицу размера 4 на 4 с единицами на диагонали смещеной на один наверх."
      ]
    },
    {
      "cell_type": "code",
      "execution_count": null,
      "metadata": {
        "colab": {
          "base_uri": "https://localhost:8080/"
        },
        "id": "4skUFqL53KLQ",
        "outputId": "9d36a66e-409d-4046-906d-2f56235473d4"
      },
      "outputs": [
        {
          "output_type": "stream",
          "name": "stdout",
          "text": [
            "Матрица 4x4 с единицами на диагонали, смещенной на один вверх:\n",
            "[[0. 1. 0. 0.]\n",
            " [0. 0. 1. 0.]\n",
            " [0. 0. 0. 1.]\n",
            " [0. 0. 0. 0.]]\n"
          ]
        }
      ],
      "source": [
        "matrix = np.eye(4, k=1)\n",
        "print(\"Матрица 4x4 с единицами на диагонали, смещенной на один вверх:\")\n",
        "print(matrix)"
      ]
    },
    {
      "cell_type": "markdown",
      "metadata": {
        "id": "4-fBoGLe3KLQ"
      },
      "source": [
        "8) Создать матрицу с числами в диапазоне от 1 до 4 по диагонали. В других ячейках матрицы должны быть семерки."
      ]
    },
    {
      "cell_type": "code",
      "execution_count": null,
      "metadata": {
        "colab": {
          "base_uri": "https://localhost:8080/"
        },
        "id": "qYCrWKp63KLQ",
        "outputId": "b3661671-0ab6-4042-a89e-fb4ac4a41be1"
      },
      "outputs": [
        {
          "output_type": "stream",
          "name": "stdout",
          "text": [
            "Матрица с числами от 1 до 4 по диагонали, остальное заполнено семерками:\n",
            "[[1 7 7 7]\n",
            " [7 2 7 7]\n",
            " [7 7 3 7]\n",
            " [7 7 7 4]]\n"
          ]
        }
      ],
      "source": [
        "matrix_7_fill = np.full((4, 4), 7)\n",
        "np.fill_diagonal(matrix_7_fill, [1, 2, 3, 4])\n",
        "print(\"Матрица с числами от 1 до 4 по диагонали, остальное заполнено семерками:\")\n",
        "print(matrix_7_fill)\n"
      ]
    },
    {
      "cell_type": "markdown",
      "metadata": {
        "id": "sFb1HvKv3KLQ"
      },
      "source": [
        "9) Создать матрицу размера 5 на 5 заполненную чилами от 0 до 4 в строках."
      ]
    },
    {
      "cell_type": "code",
      "execution_count": null,
      "metadata": {
        "colab": {
          "base_uri": "https://localhost:8080/"
        },
        "id": "KsJYKJJX3KLQ",
        "outputId": "ceb8cb56-25dd-4ddf-bf0c-f7bee4b27fd8"
      },
      "outputs": [
        {
          "output_type": "stream",
          "name": "stdout",
          "text": [
            "Матрица 5x5, заполненная числами от 0 до 4 по строкам:\n",
            "[[0 1 2 3 4]\n",
            " [0 1 2 3 4]\n",
            " [0 1 2 3 4]\n",
            " [0 1 2 3 4]\n",
            " [0 1 2 3 4]]\n"
          ]
        }
      ],
      "source": [
        "matrix_5x5 = np.tile(np.arange(5), (5, 1))\n",
        "print(\"Матрица 5x5, заполненная числами от 0 до 4 по строкам:\")\n",
        "print(matrix_5x5)"
      ]
    },
    {
      "cell_type": "markdown",
      "metadata": {
        "id": "2b8sB-f33KLQ"
      },
      "source": [
        "10) Создать матрицу случайных чисел размера 10 на 10 и отнять среднее по строкам из каждого элемента строки"
      ]
    },
    {
      "cell_type": "code",
      "execution_count": null,
      "metadata": {
        "colab": {
          "base_uri": "https://localhost:8080/"
        },
        "id": "zDezO92h3KLQ",
        "outputId": "8fe0b18c-16df-4844-ac9e-8e1ef5836ea3"
      },
      "outputs": [
        {
          "output_type": "stream",
          "name": "stdout",
          "text": [
            "Матрица 10x10 (числа от 1 до 10), из которой вычтено среднее по строкам:\n",
            "[[-1.8  3.2 -3.8  4.2  2.2  0.2 -0.8 -2.8 -0.8  0.2]\n",
            " [-1.1  3.9  3.9  0.9 -5.1 -4.1  2.9  0.9 -4.1  1.9]\n",
            " [-0.7  1.3  4.3 -4.7 -0.7  0.3  3.3  2.3 -2.7 -2.7]\n",
            " [ 5.   1.  -2.  -2.   3.   0.  -2.   1.  -2.  -2. ]\n",
            " [ 4.2 -1.8 -3.8 -2.8  1.2  0.2  4.2 -0.8 -2.8  2.2]\n",
            " [ 2.6  0.6  3.6 -1.4 -0.4  1.6 -0.4 -1.4 -1.4 -3.4]\n",
            " [-3.1 -1.1 -3.1  1.9  1.9 -1.1  3.9  4.9 -2.1 -2.1]\n",
            " [ 3.9  0.9  1.9 -3.1 -4.1  1.9 -0.1 -0.1  2.9 -4.1]\n",
            " [ 3.6 -3.4 -3.4  3.6  3.6  4.6 -0.4 -2.4 -3.4 -2.4]\n",
            " [ 3.8 -5.2  3.8  0.8  0.8 -1.2  1.8 -1.2 -0.2 -3.2]]\n"
          ]
        }
      ],
      "source": [
        "matrix_random_10x10 = np.random.randint(1, 11, size=(10, 10))\n",
        "matrix_centered_by_rows = matrix_random_10x10 - matrix_random_10x10.mean(axis=1, keepdims=True)\n",
        "print(\"Матрица 10x10 (числа от 1 до 10), из которой вычтено среднее по строкам:\")\n",
        "print(matrix_centered_by_rows)\n"
      ]
    },
    {
      "cell_type": "markdown",
      "metadata": {
        "id": "EYsG8fZS3KLQ"
      },
      "source": [
        "11) Создать матрицу случайных чисел размера 10 на 10 и отнять медиану по столбцам из каждого элемента столбца  "
      ]
    },
    {
      "cell_type": "code",
      "execution_count": null,
      "metadata": {
        "colab": {
          "base_uri": "https://localhost:8080/"
        },
        "id": "a4DgCcQt3KLQ",
        "outputId": "023dd677-400c-4f91-f278-bab8bcec1c59"
      },
      "outputs": [
        {
          "output_type": "stream",
          "name": "stdout",
          "text": [
            "Матрица 10x10 (числа от 1 до 10), из которой вычтена медиана по столбцам:\n",
            "[[ 2.   0.  -1.5  1.  -0.5 -1.5 -3.   3.5  4.  -7.5]\n",
            " [ 0.  -2.  -4.5 -2.   5.5 -2.5 -3.   0.5 -4.  -4.5]\n",
            " [ 0.   0.  -2.5  2.  -0.5  0.5  4.  -2.5  0.   1.5]\n",
            " [-1.  -5.  -0.5 -5.   0.5 -0.5  0.   2.5 -1.   0.5]\n",
            " [-3.  -6.   1.5 -7.   1.5  2.5 -2.  -4.5  3.   1.5]\n",
            " [-4.   1.   0.5  0.  -3.5  2.5  0.   2.5  0.  -4.5]\n",
            " [ 0.   1.  -1.5  1.   1.5 -4.5  4.  -0.5  3.   0.5]\n",
            " [ 1.  -4.   2.5 -5.  -1.5 -3.5 -4.  -0.5  3.  -0.5]\n",
            " [-6.   0.   2.5  0.   4.5  2.5  0.  -3.5 -2.   1.5]\n",
            " [ 1.   0.   0.5  0.  -2.5  2.5  3.   0.5 -2.  -1.5]]\n"
          ]
        }
      ],
      "source": [
        "matrix_random_10x10_2 = np.random.randint(1, 11, size=(10, 10))\n",
        "matrix_centered_by_columns = matrix_random_10x10_2 - np.median(matrix_random_10x10_2, axis=0, keepdims=True)\n",
        "print(\"Матрица 10x10 (числа от 1 до 10), из которой вычтена медиана по столбцам:\")\n",
        "print(matrix_centered_by_columns)"
      ]
    },
    {
      "cell_type": "markdown",
      "metadata": {
        "id": "OcYYGA7O3KLQ"
      },
      "source": [
        "12) Создать матрицу случайных чисел 5x5. Добавить к ней столбецы максимумов и минимумов по строкам. Получится матрица 5x7.  "
      ]
    },
    {
      "cell_type": "code",
      "execution_count": null,
      "metadata": {
        "colab": {
          "base_uri": "https://localhost:8080/"
        },
        "id": "wKmVdnsr3KLR",
        "outputId": "099f6b17-33b0-475c-8850-f70dd2fcfe2b"
      },
      "outputs": [
        {
          "output_type": "stream",
          "name": "stdout",
          "text": [
            "Матрица 5x5 (числа от 1 до 10) с добавленными столбцами максимумов и минимумов по строкам:\n",
            "[[ 8  4  2  1  2  8  1]\n",
            " [ 5 10  1  8  7 10  1]\n",
            " [10  2  4  3  3 10  2]\n",
            " [ 4  7  4  3  7  7  3]\n",
            " [ 2 10 10  6  5 10  2]]\n"
          ]
        }
      ],
      "source": [
        "matrix_random_5x5 = np.random.randint(1, 11, size=(5, 5))\n",
        "max_columns = matrix_random_5x5.max(axis=1).reshape(-1, 1)\n",
        "min_columns = matrix_random_5x5.min(axis=1).reshape(-1, 1)\n",
        "matrix_extended = np.hstack((matrix_random_5x5, max_columns, min_columns))\n",
        "print(\"Матрица 5x5 (числа от 1 до 10) с добавленными столбцами максимумов и минимумов по строкам:\")\n",
        "print(matrix_extended)"
      ]
    },
    {
      "cell_type": "markdown",
      "metadata": {
        "id": "pcDlGDZq3KLR"
      },
      "source": [
        "13) Вектор чисел от 1 до 51 преобразовать в вектор нечетных чисел и в вектор четных чисел, поменять их размерности, чтобы получились две матрица. Найти произведение этих матриц. Найти обратную матрицу эётого произведения.  "
      ]
    },
    {
      "cell_type": "code",
      "execution_count": null,
      "metadata": {
        "colab": {
          "base_uri": "https://localhost:8080/"
        },
        "id": "zfNC-ELr3KLR",
        "outputId": "b0269d35-b1db-4adc-b759-f3c0bb22df92"
      },
      "outputs": [
        {
          "output_type": "stream",
          "name": "stdout",
          "text": [
            "Произведение матриц:\n",
            " [[ 46  58  70  82  94]\n",
            " [ 94 122 150 178 206]\n",
            " [142 186 230 274 318]\n",
            " [190 250 310 370 430]\n",
            " [238 314 390 466 542]]\n",
            "Обратная матрица не существует.\n"
          ]
        }
      ],
      "source": [
        "vector = np.arange(1, 52)\n",
        "\n",
        "odd_numbers = vector[vector % 2 != 0]\n",
        "even_numbers = vector[vector % 2 == 0]\n",
        "\n",
        "ven_matrix = even_numbers[:10].reshape(5, 2)\n",
        "\n",
        "odd_matrix = odd_numbers[:10].reshape(2, 5)\n",
        "\n",
        "product = np.dot(ven_matrix, odd_matrix)\n",
        "\n",
        "print(\"Произведение матриц:\\n\", product)\n",
        "\n",
        "try:\n",
        "    inverse_product = np.linalg.inv(product)\n",
        "    print(\"Обратная матрица произведения:\\n\", inverse_product)\n",
        "except np.linalg.LinAlgError:\n",
        "    print(\"Обратная матрица не существует.\")"
      ]
    },
    {
      "cell_type": "markdown",
      "metadata": {
        "id": "Iyjae-yp3KLR"
      },
      "source": [
        "14) Создать 8x8 матрицу и заполнить её в шахматном порядке нулями и единицами."
      ]
    },
    {
      "cell_type": "code",
      "execution_count": null,
      "metadata": {
        "colab": {
          "base_uri": "https://localhost:8080/"
        },
        "id": "JxQmYZ_e3KLR",
        "outputId": "a3023b63-c081-4d12-c4d9-cf065a2989e0"
      },
      "outputs": [
        {
          "output_type": "stream",
          "name": "stdout",
          "text": [
            "8x8 матрица, заполненная в шахматном порядке:\n",
            "[[0 1 0 1 0 1 0 1]\n",
            " [1 0 1 0 1 0 1 0]\n",
            " [0 1 0 1 0 1 0 1]\n",
            " [1 0 1 0 1 0 1 0]\n",
            " [0 1 0 1 0 1 0 1]\n",
            " [1 0 1 0 1 0 1 0]\n",
            " [0 1 0 1 0 1 0 1]\n",
            " [1 0 1 0 1 0 1 0]]\n"
          ]
        }
      ],
      "source": [
        "chessboard_matrix = np.zeros((8, 8), dtype=int)\n",
        "chessboard_matrix[1::2, ::2] = 1\n",
        "chessboard_matrix[::2, 1::2] = 1\n",
        "print(\"8x8 матрица, заполненная в шахматном порядке:\")\n",
        "print(chessboard_matrix)"
      ]
    }
  ],
  "metadata": {
    "kernelspec": {
      "display_name": "Python 3 (ipykernel)",
      "language": "python",
      "name": "python3"
    },
    "language_info": {
      "codemirror_mode": {
        "name": "ipython",
        "version": 3
      },
      "file_extension": ".py",
      "mimetype": "text/x-python",
      "name": "python",
      "nbconvert_exporter": "python",
      "pygments_lexer": "ipython3",
      "version": "3.12.4"
    },
    "colab": {
      "provenance": []
    }
  },
  "nbformat": 4,
  "nbformat_minor": 0
}