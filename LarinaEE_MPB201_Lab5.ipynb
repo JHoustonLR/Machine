{
  "cells": [
    {
      "cell_type": "markdown",
      "metadata": {
        "id": "o2jGv7acICeR"
      },
      "source": [
        "# Домашняя работа. Деревья решений.\n",
        "\n",
        "## Полезная литература\n",
        "\n",
        "- [Habrahabr: ODS деревья решений](https://habrahabr.ru/company/ods/blog/322534/#derevo-resheniy)\n",
        "- [ВМК МГУ семинары по решающим деревьям](99-extra__ml-course-msu-Sem04_trees.pdf)\n",
        "- [Sklearn Decision Trees](http://scikit-learn.org/stable/modules/tree.html)"
      ]
    },
    {
      "cell_type": "markdown",
      "metadata": {
        "id": "khcM1Ug4ICeS"
      },
      "source": [
        "## 1. Сравнение моделей деревьев\n",
        "\n",
        "В этом блоке вы сравните разные конфигурации композиций деревьев:\n",
        "- DecisionTree\n",
        "- Bagging\n",
        "- Bagging с другими настройками подбора признаков для разбиения\n",
        "- RandomForest\n",
        "\n",
        "Будем использовать [датасет с винишком](https://archive.ics.uci.edu/ml/datasets/wine+quality) - это задача то ли классификации то ли регресси - нужно предсказывать качество вина. Будем думать что это классификация.\n",
        "\n",
        "![](https://upload.wikimedia.org/wikipedia/en/thumb/7/7c/Lulz_Security.svg/300px-Lulz_Security.svg.png)\n",
        "\n",
        "\n"
      ]
    },
    {
      "cell_type": "code",
      "execution_count": null,
      "metadata": {
        "colab": {
          "base_uri": "https://localhost:8080/",
          "height": 73
        },
        "id": "RmucO6yuI8Cl",
        "outputId": "64267e35-6038-4f71-e15d-bbf857aa998e"
      },
      "outputs": [
        {
          "output_type": "display_data",
          "data": {
            "text/plain": [
              "<IPython.core.display.HTML object>"
            ],
            "text/html": [
              "\n",
              "     <input type=\"file\" id=\"files-6da6afb9-29ca-4127-b8d2-84c7c1ba0133\" name=\"files[]\" multiple disabled\n",
              "        style=\"border:none\" />\n",
              "     <output id=\"result-6da6afb9-29ca-4127-b8d2-84c7c1ba0133\">\n",
              "      Upload widget is only available when the cell has been executed in the\n",
              "      current browser session. Please rerun this cell to enable.\n",
              "      </output>\n",
              "      <script>// Copyright 2017 Google LLC\n",
              "//\n",
              "// Licensed under the Apache License, Version 2.0 (the \"License\");\n",
              "// you may not use this file except in compliance with the License.\n",
              "// You may obtain a copy of the License at\n",
              "//\n",
              "//      http://www.apache.org/licenses/LICENSE-2.0\n",
              "//\n",
              "// Unless required by applicable law or agreed to in writing, software\n",
              "// distributed under the License is distributed on an \"AS IS\" BASIS,\n",
              "// WITHOUT WARRANTIES OR CONDITIONS OF ANY KIND, either express or implied.\n",
              "// See the License for the specific language governing permissions and\n",
              "// limitations under the License.\n",
              "\n",
              "/**\n",
              " * @fileoverview Helpers for google.colab Python module.\n",
              " */\n",
              "(function(scope) {\n",
              "function span(text, styleAttributes = {}) {\n",
              "  const element = document.createElement('span');\n",
              "  element.textContent = text;\n",
              "  for (const key of Object.keys(styleAttributes)) {\n",
              "    element.style[key] = styleAttributes[key];\n",
              "  }\n",
              "  return element;\n",
              "}\n",
              "\n",
              "// Max number of bytes which will be uploaded at a time.\n",
              "const MAX_PAYLOAD_SIZE = 100 * 1024;\n",
              "\n",
              "function _uploadFiles(inputId, outputId) {\n",
              "  const steps = uploadFilesStep(inputId, outputId);\n",
              "  const outputElement = document.getElementById(outputId);\n",
              "  // Cache steps on the outputElement to make it available for the next call\n",
              "  // to uploadFilesContinue from Python.\n",
              "  outputElement.steps = steps;\n",
              "\n",
              "  return _uploadFilesContinue(outputId);\n",
              "}\n",
              "\n",
              "// This is roughly an async generator (not supported in the browser yet),\n",
              "// where there are multiple asynchronous steps and the Python side is going\n",
              "// to poll for completion of each step.\n",
              "// This uses a Promise to block the python side on completion of each step,\n",
              "// then passes the result of the previous step as the input to the next step.\n",
              "function _uploadFilesContinue(outputId) {\n",
              "  const outputElement = document.getElementById(outputId);\n",
              "  const steps = outputElement.steps;\n",
              "\n",
              "  const next = steps.next(outputElement.lastPromiseValue);\n",
              "  return Promise.resolve(next.value.promise).then((value) => {\n",
              "    // Cache the last promise value to make it available to the next\n",
              "    // step of the generator.\n",
              "    outputElement.lastPromiseValue = value;\n",
              "    return next.value.response;\n",
              "  });\n",
              "}\n",
              "\n",
              "/**\n",
              " * Generator function which is called between each async step of the upload\n",
              " * process.\n",
              " * @param {string} inputId Element ID of the input file picker element.\n",
              " * @param {string} outputId Element ID of the output display.\n",
              " * @return {!Iterable<!Object>} Iterable of next steps.\n",
              " */\n",
              "function* uploadFilesStep(inputId, outputId) {\n",
              "  const inputElement = document.getElementById(inputId);\n",
              "  inputElement.disabled = false;\n",
              "\n",
              "  const outputElement = document.getElementById(outputId);\n",
              "  outputElement.innerHTML = '';\n",
              "\n",
              "  const pickedPromise = new Promise((resolve) => {\n",
              "    inputElement.addEventListener('change', (e) => {\n",
              "      resolve(e.target.files);\n",
              "    });\n",
              "  });\n",
              "\n",
              "  const cancel = document.createElement('button');\n",
              "  inputElement.parentElement.appendChild(cancel);\n",
              "  cancel.textContent = 'Cancel upload';\n",
              "  const cancelPromise = new Promise((resolve) => {\n",
              "    cancel.onclick = () => {\n",
              "      resolve(null);\n",
              "    };\n",
              "  });\n",
              "\n",
              "  // Wait for the user to pick the files.\n",
              "  const files = yield {\n",
              "    promise: Promise.race([pickedPromise, cancelPromise]),\n",
              "    response: {\n",
              "      action: 'starting',\n",
              "    }\n",
              "  };\n",
              "\n",
              "  cancel.remove();\n",
              "\n",
              "  // Disable the input element since further picks are not allowed.\n",
              "  inputElement.disabled = true;\n",
              "\n",
              "  if (!files) {\n",
              "    return {\n",
              "      response: {\n",
              "        action: 'complete',\n",
              "      }\n",
              "    };\n",
              "  }\n",
              "\n",
              "  for (const file of files) {\n",
              "    const li = document.createElement('li');\n",
              "    li.append(span(file.name, {fontWeight: 'bold'}));\n",
              "    li.append(span(\n",
              "        `(${file.type || 'n/a'}) - ${file.size} bytes, ` +\n",
              "        `last modified: ${\n",
              "            file.lastModifiedDate ? file.lastModifiedDate.toLocaleDateString() :\n",
              "                                    'n/a'} - `));\n",
              "    const percent = span('0% done');\n",
              "    li.appendChild(percent);\n",
              "\n",
              "    outputElement.appendChild(li);\n",
              "\n",
              "    const fileDataPromise = new Promise((resolve) => {\n",
              "      const reader = new FileReader();\n",
              "      reader.onload = (e) => {\n",
              "        resolve(e.target.result);\n",
              "      };\n",
              "      reader.readAsArrayBuffer(file);\n",
              "    });\n",
              "    // Wait for the data to be ready.\n",
              "    let fileData = yield {\n",
              "      promise: fileDataPromise,\n",
              "      response: {\n",
              "        action: 'continue',\n",
              "      }\n",
              "    };\n",
              "\n",
              "    // Use a chunked sending to avoid message size limits. See b/62115660.\n",
              "    let position = 0;\n",
              "    do {\n",
              "      const length = Math.min(fileData.byteLength - position, MAX_PAYLOAD_SIZE);\n",
              "      const chunk = new Uint8Array(fileData, position, length);\n",
              "      position += length;\n",
              "\n",
              "      const base64 = btoa(String.fromCharCode.apply(null, chunk));\n",
              "      yield {\n",
              "        response: {\n",
              "          action: 'append',\n",
              "          file: file.name,\n",
              "          data: base64,\n",
              "        },\n",
              "      };\n",
              "\n",
              "      let percentDone = fileData.byteLength === 0 ?\n",
              "          100 :\n",
              "          Math.round((position / fileData.byteLength) * 100);\n",
              "      percent.textContent = `${percentDone}% done`;\n",
              "\n",
              "    } while (position < fileData.byteLength);\n",
              "  }\n",
              "\n",
              "  // All done.\n",
              "  yield {\n",
              "    response: {\n",
              "      action: 'complete',\n",
              "    }\n",
              "  };\n",
              "}\n",
              "\n",
              "scope.google = scope.google || {};\n",
              "scope.google.colab = scope.google.colab || {};\n",
              "scope.google.colab._files = {\n",
              "  _uploadFiles,\n",
              "  _uploadFilesContinue,\n",
              "};\n",
              "})(self);\n",
              "</script> "
            ]
          },
          "metadata": {}
        },
        {
          "output_type": "stream",
          "name": "stdout",
          "text": [
            "Saving winequality-red.csv.gz to winequality-red.csv.gz\n"
          ]
        }
      ],
      "source": [
        "import pandas as pd\n",
        "import numpy as np\n",
        "import seaborn as sns\n",
        "import matplotlib.pyplot as plt\n",
        "from sklearn.neighbors import KNeighborsClassifier\n",
        "from sklearn.model_selection import cross_val_score\n",
        "from sklearn.pipeline import make_pipeline\n",
        "from sklearn.preprocessing import StandardScaler\n",
        "from sklearn.model_selection import cross_val_score\n",
        "from sklearn.linear_model import RidgeClassifier\n",
        "from sklearn.tree import DecisionTreeClassifier\n",
        "from sklearn.ensemble import BaggingClassifier\n",
        "from sklearn.ensemble import RandomForestClassifier\n",
        "from sklearn.ensemble import BaggingClassifier\n",
        "from sklearn.datasets import load_digits\n",
        "from google.colab import files\n",
        "uploaded = files.upload()"
      ]
    },
    {
      "cell_type": "markdown",
      "metadata": {
        "id": "YBkYuy95ICeT"
      },
      "source": [
        "### 1.1 Чтение данных (1 балла)\n",
        "\n",
        "Данные лежат как обычно в `'./data/winequality-red.csv.gz'`.\n",
        "\n",
        "- Прочитайте их с помощью pandas\n",
        "- нарисуйте countplot целевого признака `quality`.\n",
        "- Что вы думаете по поводу количества представителей каждого класса.\n",
        "- Разбейте данные на X и y."
      ]
    },
    {
      "cell_type": "code",
      "execution_count": null,
      "metadata": {
        "id": "UaYXHcxfICeT",
        "colab": {
          "base_uri": "https://localhost:8080/"
        },
        "outputId": "9ce38cbf-2ee8-40b8-adfd-41ea5e8930fa"
      },
      "outputs": [
        {
          "output_type": "stream",
          "name": "stdout",
          "text": [
            "Первые строки данных:\n",
            "   fixed acidity  volatile acidity  citric acid  residual sugar  chlorides  \\\n",
            "0            7.4              0.70         0.00             1.9      0.076   \n",
            "1            7.8              0.88         0.00             2.6      0.098   \n",
            "2            7.8              0.76         0.04             2.3      0.092   \n",
            "3           11.2              0.28         0.56             1.9      0.075   \n",
            "4            7.4              0.70         0.00             1.9      0.076   \n",
            "\n",
            "   free sulfur dioxide  total sulfur dioxide  density    pH  sulphates  \\\n",
            "0                 11.0                  34.0   0.9978  3.51       0.56   \n",
            "1                 25.0                  67.0   0.9968  3.20       0.68   \n",
            "2                 15.0                  54.0   0.9970  3.26       0.65   \n",
            "3                 17.0                  60.0   0.9980  3.16       0.58   \n",
            "4                 11.0                  34.0   0.9978  3.51       0.56   \n",
            "\n",
            "   alcohol  quality  \n",
            "0      9.4        5  \n",
            "1      9.8        5  \n",
            "2      9.8        5  \n",
            "3      9.8        6  \n",
            "4      9.4        5  \n",
            "\n",
            "Названия столбцов:\n",
            "Index(['fixed acidity', 'volatile acidity', 'citric acid', 'residual sugar',\n",
            "       'chlorides', 'free sulfur dioxide', 'total sulfur dioxide', 'density',\n",
            "       'pH', 'sulphates', 'alcohol', 'quality'],\n",
            "      dtype='object')\n"
          ]
        }
      ],
      "source": [
        "data = pd.read_csv('winequality-red.csv.gz', compression='gzip', sep=';')\n",
        "print(\"Первые строки данных:\")\n",
        "print(data.head())\n",
        "print(\"\\nНазвания столбцов:\")\n",
        "print(data.columns)\n"
      ]
    },
    {
      "cell_type": "code",
      "execution_count": null,
      "metadata": {
        "colab": {
          "base_uri": "https://localhost:8080/",
          "height": 720
        },
        "id": "oHh6mHaGK9-C",
        "outputId": "82380fe5-6f1c-43ff-f7e0-b37eaf10ab8a"
      },
      "outputs": [
        {
          "output_type": "display_data",
          "data": {
            "text/plain": [
              "<Figure size 800x600 with 1 Axes>"
            ],
            "image/png": "[encoded data removed]"
          },
          "metadata": {}
        },
        {
          "output_type": "stream",
          "name": "stdout",
          "text": [
            "Количество представителей каждого класса:\n",
            "quality\n",
            "5    681\n",
            "6    638\n",
            "7    199\n",
            "4     53\n",
            "8     18\n",
            "3     10\n",
            "Name: count, dtype: int64\n"
          ]
        }
      ],
      "source": [
        "plt.figure(figsize=(8, 6))\n",
        "sns.countplot(x='quality', data=data)\n",
        "plt.title(\"Распределение целевого признака 'quality'\")\n",
        "plt.xlabel(\"Quality\")\n",
        "plt.ylabel(\"Количество\")\n",
        "plt.show()\n",
        "print(\"Количество представителей каждого класса:\")\n",
        "print(data['quality'].value_counts())\n",
        "X = data.drop(columns=['quality'])\n",
        "y = data['quality']\n"
      ]
    },
    {
      "cell_type": "markdown",
      "metadata": {
        "id": "F1psCJy9ICeT"
      },
      "source": [
        "### 1.2 Сравнение моделей (4 балла)\n",
        "\n",
        "Задача классификации. Все признаки уже числовые. Значит можно пробовать просто все модели и выбрать лучшую. Так и поступим, сделайте кросс валидацию на 5 фолдах, используя `sklearn.model_selection.KFold` как аргумент у `cross_val_score`. Метрика качества будет `accuracy`.\n",
        "\n",
        "Алгоритмы для тестирования:\n",
        "- KNeighborsClassifier с 10 соседями\n",
        "- KNeighborsClassifier с 10 соседями и масштабированием StandartScaler\n",
        "- RidgeClassifier\n",
        "- DecisionTreeClassifier\n",
        "- BaggingClassifier c 100 деревьев\n",
        "- BaggingClassifier с 100 деревьев и каждое дерево обучается только по половине случайно выбранных признаков (см аргументы)\n",
        "- RandomForestClassifier c 100 деревьев\n",
        "\n",
        "Выведите среднее значение метрики качества для каждого из классификаторов.\n",
        "\n",
        "**hint**: каждый следующий алгоритм, будет показывать качество лучше, чем предыдущий. Если у вас не так - то что-то вы делаете неправильно. Везде зафиксируйте random_state=42."
      ]
    },
    {
      "cell_type": "code",
      "execution_count": null,
      "metadata": {
        "id": "xttXpsp3ICeT",
        "colab": {
          "base_uri": "https://localhost:8080/"
        },
        "outputId": "c2c7b3cd-d5e4-4cdc-a4bf-5e7ce893b8b0"
      },
      "outputs": [
        {
          "output_type": "stream",
          "name": "stdout",
          "text": [
            "Среднее значение accuracy для KNeighborsClassifier с 10 соседями: 0.512220, Std: 0.026461\n"
          ]
        }
      ],
      "source": [
        "cv = KFold(n_splits=5, random_state=42, shuffle=True)\n",
        "knn = KNeighborsClassifier(n_neighbors=10)\n",
        "scores_knn = cross_val_score(knn, X, y, cv=cv, scoring='accuracy')\n",
        "print(\"Среднее значение accuracy для KNeighborsClassifier с 10 соседями: {:.6f}, Std: {:.6f}\".format(scores_knn.mean(), scores_knn.std()))\n"
      ]
    },
    {
      "cell_type": "code",
      "execution_count": null,
      "metadata": {
        "id": "ZYG72nLqICeT",
        "colab": {
          "base_uri": "https://localhost:8080/"
        },
        "outputId": "c606fbc2-c601-4313-99c9-7c05909d06fb"
      },
      "outputs": [
        {
          "output_type": "stream",
          "name": "stdout",
          "text": [
            "Среднее значение accuracy для KNeighborsClassifier с 10 соседями и масштабированием: 0.581634, Std: 0.019192\n"
          ]
        }
      ],
      "source": [
        "pipeline_knn_scaled = make_pipeline(StandardScaler(), KNeighborsClassifier(n_neighbors=10))\n",
        "scores_knn_scaled = cross_val_score(pipeline_knn_scaled, X, y, cv=cv, scoring='accuracy')\n",
        "print(\"Среднее значение accuracy для KNeighborsClassifier с 10 соседями и масштабированием: {:.6f}, Std: {:.6f}\".format(scores_knn_scaled.mean(), scores_knn_scaled.std()))"
      ]
    },
    {
      "cell_type": "code",
      "execution_count": null,
      "metadata": {
        "id": "2lHNj_FTICeU",
        "colab": {
          "base_uri": "https://localhost:8080/"
        },
        "outputId": "07b6234e-9490-4e78-fa3a-7a3b2f3afc30"
      },
      "outputs": [
        {
          "output_type": "stream",
          "name": "stdout",
          "text": [
            "Среднее значение accuracy для RidgeClassifier: 0.583538, Std: 0.039966\n"
          ]
        }
      ],
      "source": [
        "ridge = RidgeClassifier(random_state=42)\n",
        "scores_ridge = cross_val_score(ridge, X, y, cv=cv, scoring='accuracy')\n",
        "print(\"Среднее значение accuracy для RidgeClassifier: {:.6f}, Std: {:.6f}\".format(scores_ridge.mean(), scores_ridge.std()))\n"
      ]
    },
    {
      "cell_type": "code",
      "execution_count": null,
      "metadata": {
        "id": "QU5siokwICeU",
        "colab": {
          "base_uri": "https://localhost:8080/"
        },
        "outputId": "4fc99bf3-1424-42ae-bf48-36b00152bcf1"
      },
      "outputs": [
        {
          "output_type": "stream",
          "name": "stdout",
          "text": [
            "Среднее значение accuracy для DecisionTreeClassifier: 0.617896, Std: 0.033631\n"
          ]
        }
      ],
      "source": [
        "decision_tree = DecisionTreeClassifier(random_state=42)\n",
        "scores_decision_tree = cross_val_score(decision_tree, X, y, cv=cv, scoring='accuracy')\n",
        "print(\"Среднее значение accuracy для DecisionTreeClassifier: {:.6f}, Std: {:.6f}\".format(scores_decision_tree.mean(), scores_decision_tree.std()))\n"
      ]
    },
    {
      "cell_type": "code",
      "execution_count": null,
      "metadata": {
        "id": "RAPIUj2GICeU",
        "colab": {
          "base_uri": "https://localhost:8080/"
        },
        "outputId": "c202df89-ce8d-4dec-a1b0-72851fd77dc3"
      },
      "outputs": [
        {
          "output_type": "stream",
          "name": "stdout",
          "text": [
            "Среднее значение accuracy для BaggingClassifier с 100 деревьями: 0.697966, Std: 0.035447\n"
          ]
        }
      ],
      "source": [
        "bagging = BaggingClassifier(estimator=DecisionTreeClassifier(random_state=42), n_estimators=100, random_state=42)\n",
        "scores_bagging = cross_val_score(bagging, X, y, cv=cv, scoring='accuracy')\n",
        "print(\"Среднее значение accuracy для BaggingClassifier с 100 деревьями: {:.6f}, Std: {:.6f}\".format(scores_bagging.mean(), scores_bagging.std()))"
      ]
    },
    {
      "cell_type": "code",
      "execution_count": null,
      "metadata": {
        "id": "qN9BhOJWICeU",
        "colab": {
          "base_uri": "https://localhost:8080/"
        },
        "outputId": "993b7384-3ede-429e-f92f-aee52ea36517"
      },
      "outputs": [
        {
          "output_type": "stream",
          "name": "stdout",
          "text": [
            "Среднее значение accuracy для BaggingClassifier с 100 деревьями и половиной признаков: 0.694835, Std: 0.022539\n"
          ]
        }
      ],
      "source": [
        "bagging_half_features = BaggingClassifier(estimator=DecisionTreeClassifier(random_state=42), n_estimators=100, max_features=0.5, random_state=42)\n",
        "scores_bagging_half_features = cross_val_score(bagging_half_features, X, y, cv=cv, scoring='accuracy')\n",
        "print(\"Среднее значение accuracy для BaggingClassifier с 100 деревьями и половиной признаков: {:.6f}, Std: {:.6f}\".format(scores_bagging_half_features.mean(), scores_bagging_half_features.std()))"
      ]
    },
    {
      "cell_type": "code",
      "execution_count": null,
      "metadata": {
        "id": "NpXrtgnJICeU",
        "colab": {
          "base_uri": "https://localhost:8080/"
        },
        "outputId": "1cf86349-5744-4733-f224-c643e5df0b26"
      },
      "outputs": [
        {
          "output_type": "stream",
          "name": "stdout",
          "text": [
            "Среднее значение accuracy для RandomForestClassifier с 100 деревьями: 0.701714, Std: 0.028722\n"
          ]
        }
      ],
      "source": [
        "random_forest = RandomForestClassifier(n_estimators=100, random_state=42)\n",
        "scores_random_forest = cross_val_score(random_forest, X, y, cv=cv, scoring='accuracy')\n",
        "print(\"Среднее значение accuracy для RandomForestClassifier с 100 деревьями: {:.6f}, Std: {:.6f}\".format(scores_random_forest.mean(), scores_random_forest.std()))"
      ]
    },
    {
      "cell_type": "markdown",
      "metadata": {
        "id": "Oj-b2aUtICeU"
      },
      "source": [
        "### 1.3 Расуждения (8 баллов)\n",
        "\n",
        "Ответьте на вопросы развернуто, можете полистать литературу:\n",
        "\n",
        "1)Почему наблюдается значимая разница в качестве у KNeighborsClassifier с масштабированием и без?\n",
        "Ответ:\n",
        "KNeighborsClassifier чувствителен к масштабам признаков, так как он вычисляет расстояния между точками. Без масштабирования признаки с большим масштабом могут доминировать над признаками с меньшим масштабом, что негативно сказывается на качестве модели. Масштабирование позволяет каждому признаку вносить равный вклад в метрику расстояния, что приводит к более точной классификации.\n",
        "\n",
        "2)Почему масштабирование не важно для деревьев решений?\n",
        "Ответ:\n",
        "Деревья решений не зависят от масштаба признаков, так как они строятся на основе пороговых разбиений по каждому признаку. Поскольку модель выбирает оптимальные пороги независимо от масштаба, изменение масштаба признаков не оказывает влияния на структуру дерева и, следовательно, на его качество.\n",
        "\n",
        "3)У какой модели наибольшей отклонение от среднего качества предсказаний?А почему?\n",
        "Ответ:s\n",
        "RidgeClassifier — это линейная модель, которая может быть более чувствительна к особенностям выборки и разделений данных на фолды, особенно если данные имеют определенные корреляции или вариативность. В отличие от ансамблевых методов, которые могут компенсировать часть этой вариативности за счет усреднения результатов нескольких моделей, линейные классификаторы иногда показывают больший разброс в результатах на различных подвыборках, что и приводит к повышенному стандартному отклонению."
      ]
    },
    {
      "cell_type": "markdown",
      "metadata": {
        "id": "9XivN_W6ICeU"
      },
      "source": [
        "## 2 Переобучение и Ко\n",
        "\n",
        "В последнем задании вы уже заметили, что случайный лес может вести себя немного нестабильно. В этом задании мы возьмем опять датасет MNIST(простите) и будем его решать деревьями. Почему мы взяли его? Потому что в нем фактически много разных признаков (значения пикселей в пространстве), а деревья строятся делая разбиения по признакам. Обычно на эти разбиения не обращают внимание, так как главное что тюнят - это глубина дереьвев, количество деревьев, а кучу других параметров обходят стороной, так как они \"неясные\". Попробуем прояснить их."
      ]
    },
    {
      "cell_type": "markdown",
      "metadata": {
        "id": "JqcGXZhfICeU"
      },
      "source": [
        "### 2.1 Загрузка датасета (1 балл)\n",
        "\n",
        "Загрузите датасет с помощью функции `sklearn.datasets.load_digits`. В нем будут 64px картинки в векторной форме.\n",
        "\n",
        "Нарисуйте первые 10 цифр в одной ячейке, чтобы было красиво."
      ]
    },
    {
      "cell_type": "code",
      "execution_count": null,
      "metadata": {
        "id": "R9eCMW3OICeU",
        "colab": {
          "base_uri": "https://localhost:8080/",
          "height": 215
        },
        "outputId": "67c70c8b-6699-4eed-c09f-c56c546c4336"
      },
      "outputs": [
        {
          "output_type": "display_data",
          "data": {
            "text/plain": [
              "<Figure size 1000x300 with 10 Axes>"
            ],
            "image/png": "[encoded data removed]"
          },
          "metadata": {}
        }
      ],
      "source": [
        "digits = load_digits()\n",
        "plt.figure(figsize=(10, 3))\n",
        "for i in range(10):\n",
        "    plt.subplot(1, 10, i + 1)\n",
        "    plt.imshow(digits.images[i], cmap='gray')\n",
        "    plt.axis('off')\n",
        "plt.suptitle(\"Первые 10 цифр из датасета\")\n",
        "plt.show()\n"
      ]
    },
    {
      "cell_type": "markdown",
      "metadata": {
        "id": "WLsbogOdICeU"
      },
      "source": [
        "### 2.2 Перебор классификаторов (3 балла)\n",
        "\n",
        "В этом задании вам снова придется перебрать несколько классификаторов, но теперь мы обратим внимание на другие гиперпараметры и их влияние на качество классификации, кстати опять `accuracy`.\n",
        "\n",
        "Сделайте кроссвалидацию на 10 фолдах, указав `cv=10` для следующих классификаторов:\n",
        "\n",
        "- DecisionTreeClassifier с параметрами по-умолчанию\n",
        "- BaggingClassifier с 100 деревьвев\n",
        "- BaggingClassifier с 100 деревьев, НО с ограничением на максимальное количество признаков, участвующих при обучении каждого из деревьев в $\\sqrt{N}$, где $N$ - это число признаков.\n",
        "- BaggingClassifier с 100 деревьев, НО с ограничением на количество признаков участвующих в разбиении для каждого из деревьев в $\\sqrt{N}$, где $N$ - это число признаков. Это отличается от предыдущей модели тем, где ограничивается `max_features`. Читайте документацию :trollface:\n",
        "- обычный случайный лес со 100 деревьями"
      ]
    },
    {
      "cell_type": "code",
      "execution_count": null,
      "metadata": {
        "id": "H6QyptaBICeU",
        "colab": {
          "base_uri": "https://localhost:8080/"
        },
        "outputId": "23fc2179-2161-4683-ebad-1c3c2cc31bf4"
      },
      "outputs": [
        {
          "output_type": "stream",
          "name": "stdout",
          "text": [
            "Среднее значение accuracy для DecisionTreeClassifier: 0.4777830188679245\n"
          ]
        }
      ],
      "source": [
        "decision_tree = DecisionTreeClassifier(random_state=42)\n",
        "scores_decision_tree = cross_val_score(decision_tree, X, y, cv=10, scoring='accuracy')\n",
        "print(\"Среднее значение accuracy для DecisionTreeClassifier:\", scores_decision_tree.mean())\n"
      ]
    },
    {
      "cell_type": "code",
      "execution_count": null,
      "metadata": {
        "id": "gmkgl1XAICeU",
        "colab": {
          "base_uri": "https://localhost:8080/"
        },
        "outputId": "8cb67c30-0d71-40c4-f780-7596e54f931b"
      },
      "outputs": [
        {
          "output_type": "stream",
          "name": "stdout",
          "text": [
            "Среднее значение accuracy для BaggingClassifier с 100 деревьями: 0.5578301886792453\n"
          ]
        }
      ],
      "source": [
        "bagging = BaggingClassifier(n_estimators=100, random_state=42)\n",
        "scores_bagging = cross_val_score(bagging, X, y, cv=10, scoring='accuracy')\n",
        "print(\"Среднее значение accuracy для BaggingClassifier с 100 деревьями:\", scores_bagging.mean())\n"
      ]
    },
    {
      "cell_type": "code",
      "execution_count": null,
      "metadata": {
        "id": "IKlTO3mhICeU",
        "colab": {
          "base_uri": "https://localhost:8080/"
        },
        "outputId": "0fefb0f3-2577-4914-e4bc-7ef8145df59c"
      },
      "outputs": [
        {
          "output_type": "stream",
          "name": "stdout",
          "text": [
            "Среднее значение accuracy для BaggingClassifier с 100 деревьями и ограничением на max_features: 0.5603380503144655\n"
          ]
        }
      ],
      "source": [
        "num_features = X.shape[1]\n",
        "bagging_max_features = BaggingClassifier(n_estimators=100, max_features=int(np.sqrt(num_features)), random_state=42)\n",
        "scores_bagging_max_features = cross_val_score(bagging_max_features, X, y, cv=10, scoring='accuracy')\n",
        "print(\"Среднее значение accuracy для BaggingClassifier с 100 деревьями и ограничением на max_features:\", scores_bagging_max_features.mean())\n"
      ]
    },
    {
      "cell_type": "code",
      "execution_count": null,
      "metadata": {
        "id": "S7JaMh_9ICeU",
        "colab": {
          "base_uri": "https://localhost:8080/"
        },
        "outputId": "a0a593f3-26ab-40d1-ecfa-68e8fce9532d"
      },
      "outputs": [
        {
          "output_type": "stream",
          "name": "stdout",
          "text": [
            "Среднее значение accuracy для BaggingClassifier с 100 деревьями и ограничением max_features в разбиениях деревьев: 0.5697366352201257\n"
          ]
        }
      ],
      "source": [
        "bagging_split_features = BaggingClassifier(\n",
        "    estimator=DecisionTreeClassifier(max_features=int(np.sqrt(num_features)), random_state=42),\n",
        "    n_estimators=100,\n",
        "    random_state=42\n",
        ")\n",
        "scores_bagging_split_features = cross_val_score(bagging_split_features, X, y, cv=10, scoring='accuracy')\n",
        "print(\"Среднее значение accuracy для BaggingClassifier с 100 деревьями и ограничением max_features в разбиениях деревьев:\", scores_bagging_split_features.mean())\n"
      ]
    },
    {
      "cell_type": "code",
      "execution_count": null,
      "metadata": {
        "id": "KiJR_KfDICeU",
        "colab": {
          "base_uri": "https://localhost:8080/"
        },
        "outputId": "f7d64215-a3a4-4f59-fd8b-bc4355276cbc"
      },
      "outputs": [
        {
          "output_type": "stream",
          "name": "stdout",
          "text": [
            "Среднее значение accuracy для RandomForestClassifier с 100 деревьями: 0.5734905660377358\n"
          ]
        }
      ],
      "source": [
        "random_forest = RandomForestClassifier(n_estimators=100, random_state=42)\n",
        "scores_random_forest = cross_val_score(random_forest, X, y, cv=10, scoring='accuracy')\n",
        "print(\"Среднее значение accuracy для RandomForestClassifier с 100 деревьями:\", scores_random_forest.mean())\n"
      ]
    },
    {
      "cell_type": "markdown",
      "metadata": {
        "id": "CMBrd36UICeU"
      },
      "source": [
        "### 2.3 В чём разница? (3 балла)\n",
        "\n",
        "Ответье на вопрос:\n",
        "\n",
        "Странно то как? Почему ограничение на количество признаков в разбиении дерева и ограничение в количестве признаков для построения каждого дерева в BaggingClasifier дало СОВСЕМ разный результат в качестве предсказания? В чем магия?\n",
        "\n",
        "Когда мы ограничиваем max_features внутри дерева, каждое дерево смотрит только на случайное подмножество признаков на каждом шаге. Это делает деревья более разнообразными. Но если признаков слишком мало, дерево может не видеть важных паттернов в данных и строиться хуже."
      ]
    },
    {
      "cell_type": "markdown",
      "metadata": {
        "id": "NeZaCp8LICeU"
      },
      "source": [
        "### 2.4 Количество деревьев (2 балла)\n",
        "\n",
        "Сделайте перебор количества деревьев для `RandomForestClassifier`. Сохраните качества кросс валидации на 10 фолдах для `[1,5,10,15,50,100,150,200,300]` количества деревьев. Нарисуйте график, где по оси x - количество деревьев, а по оси y - качество. При каком количестве деревьев получается самое хорошее качество?"
      ]
    },
    {
      "cell_type": "code",
      "execution_count": null,
      "metadata": {
        "id": "M4Ypj4lyICeU",
        "colab": {
          "base_uri": "https://localhost:8080/",
          "height": 568
        },
        "outputId": "e40d4393-1a7a-4f13-aac6-12560f7e77e1"
      },
      "outputs": [
        {
          "output_type": "display_data",
          "data": {
            "text/plain": [
              "<Figure size 1000x600 with 1 Axes>"
            ],
            "image/png": "[encoded data removed]"
          },
          "metadata": {}
        },
        {
          "output_type": "stream",
          "name": "stdout",
          "text": [
            "Оптимальное количество деревьев: 200, при котором accuracy = 0.5778694968553459\n"
          ]
        }
      ],
      "source": [
        "n_estimators_options = [1, 5, 10, 15, 50, 100, 150, 200, 300]\n",
        "mean_accuracies = []\n",
        "for n in n_estimators_options:\n",
        "    rf = RandomForestClassifier(n_estimators=n, random_state=42)\n",
        "    scores = cross_val_score(rf, X, y, cv=10, scoring='accuracy')\n",
        "    mean_accuracies.append(scores.mean())\n",
        "\n",
        "plt.figure(figsize=(10, 6))\n",
        "plt.plot(n_estimators_options, mean_accuracies, marker='o')\n",
        "plt.xlabel(\"Количество деревьев\")\n",
        "plt.ylabel(\"Среднее значение accuracy\")\n",
        "plt.title(\"Зависимость качества от количества деревьев в RandomForestClassifier\")\n",
        "plt.grid(True)\n",
        "plt.show()\n",
        "\n",
        "best_n_estimators = n_estimators_options[np.argmax(mean_accuracies)]\n",
        "best_accuracy = max(mean_accuracies)\n",
        "print(f\"Оптимальное количество деревьев: {best_n_estimators}, при котором accuracy = {best_accuracy}\")\n"
      ]
    },
    {
      "cell_type": "markdown",
      "metadata": {
        "id": "lrTskxdiICeV"
      },
      "source": [
        "### 2.5 Количество признаков  (2 балла)\n",
        "\n",
        "Переберите теперь максимальное количество признаков для `RandomForestClassifier` на 100 деревьях, от 1 до 64 с шагом 5. Постройте график качества по кроссвалидации на 10 фолдах."
      ]
    },
    {
      "cell_type": "code",
      "execution_count": null,
      "metadata": {
        "id": "agN7rmjsICeV",
        "colab": {
          "base_uri": "https://localhost:8080/",
          "height": 601
        },
        "outputId": "e3ab6f81-f8f9-46d7-ae37-134f8bd5f311"
      },
      "outputs": [
        {
          "output_type": "display_data",
          "data": {
            "text/plain": [
              "<Figure size 1000x600 with 1 Axes>"
            ],
            "image/png": "[encoded data removed]"
          },
          "metadata": {}
        },
        {
          "output_type": "stream",
          "name": "stdout",
          "text": [
            "Оптимальное количество признаков: 1, при котором accuracy = 0.570377358490566\n"
          ]
        }
      ],
      "source": [
        "max_features_options = list(range(1, 65, 5))\n",
        "mean_accuracies = []\n",
        "\n",
        "for max_features in max_features_options:\n",
        "    rf = RandomForestClassifier(n_estimators=100, max_features=max_features, random_state=42)\n",
        "    scores = cross_val_score(rf, X, y, cv=10, scoring='accuracy')\n",
        "    mean_accuracies.append(scores.mean())\n",
        "\n",
        "plt.figure(figsize=(10, 6))\n",
        "plt.plot(max_features_options, mean_accuracies, marker='o')\n",
        "plt.xlabel(\"Количество признаков (max_features)\")\n",
        "plt.ylabel(\"Среднее значение accuracy\")\n",
        "plt.title(\"Зависимость качества от max_features в RandomForestClassifier\")\n",
        "plt.grid(True)\n",
        "plt.show()\n",
        "best_max_features = max_features_options[np.argmax(mean_accuracies)]\n",
        "best_accuracy = max(mean_accuracies)\n",
        "print(f\"Оптимальное количество признаков: {best_max_features}, при котором accuracy = {best_accuracy}\")\n"
      ]
    },
    {
      "cell_type": "markdown",
      "metadata": {
        "id": "YkybbxZ1ICeV"
      },
      "source": [
        "### 2.5 Вопросы по RandomForest (8 баллов)\n",
        "\n",
        "Ответьте на вопросы:\n",
        "\n",
        "- Что происходит с ростом числа деревьев у случайного леса. Можно ли просто всегда брать 5000 деревьев и быть счастливым?\n",
        "\n",
        "С увеличением числа деревьев случайный лес\n",
        "становится стабильние, то есть предсказания становятся менее подвержены случайным ошибкам, а переобучение снижается. Использование слишком большого количества деревьев значительно увеличивает вычислительные затраты без существенного прироста точности, поэтому лучше подобрать оптимальное количество деревьев.\n",
        "\n",
        "- Как зависит качество предсказания в дереве в зависимости от max_features?\n",
        "\n",
        "max_features - сколько признаков доступно каждому дереву для выбора на каждом разбиении. Если выбрать слишком мало признаков, деревья будут хуже \"понимать\" данные, и качество упадет. Если выбрать слишком много, деревья могут стать похожими друг на друга, и случайный лес потеряет свою силу.\n",
        "\n",
        "- Почему качество зависит от max_features?\n",
        "\n",
        "Значение max_features влияет на качество предсказания, поскольку оно контролирует степень разнообразия деревьев в лесу. Если признаков мало, модель недоиспользует данные, и ее способность предсказывать ухудшается. Если признаков много, деревья начинают сильно коррелировать, то есть быть похожими, и случайный лес теряет свою устойчивость.\n",
        "\n",
        "- Как глубина деревьев влияет на качество случайного леса?\n",
        "\n",
        "Глубина деревьев определяет, насколько сильно каждое дерево может подстраиваться под данные. Слишком маленькая глубина: деревья не могут захватить сложные зависимости в данных, качество низкое. Слишком большая глубина: деревья переобучаются на обучающей выборке (запоминают шум), а случайный лес работает хуже на новых данных."
      ]
    }
  ],
  "metadata": {
    "kernelspec": {
      "display_name": "Python 3 (ipykernel)",
      "language": "python",
      "name": "python3"
    },
    "language_info": {
      "codemirror_mode": {
        "name": "ipython",
        "version": 3
      },
      "file_extension": ".py",
      "mimetype": "text/x-python",
      "name": "python",
      "nbconvert_exporter": "python",
      "pygments_lexer": "ipython3",
      "version": "3.10.1"
    },
    "colab": {
      "provenance": []
    }
  },
  "nbformat": 4,
  "nbformat_minor": 0
}